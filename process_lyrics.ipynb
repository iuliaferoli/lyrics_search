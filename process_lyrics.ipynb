{
 "cells": [
  {
   "cell_type": "code",
   "execution_count": 57,
   "metadata": {},
   "outputs": [],
   "source": [
    "import pandas as pd\n",
    "from json import loads, dumps, dump\n",
    "import unidecode\n",
    "from langchain.text_splitter import RecursiveCharacterTextSplitter\n",
    "\n",
    "df = pd.read_csv('data/taylor_swift_lyrics.csv', sep=',', header=0, encoding='windows-1252')\n"
   ]
  },
  {
   "cell_type": "code",
   "execution_count": 30,
   "metadata": {},
   "outputs": [],
   "source": [
    "songs = loads(df.to_json(orient=\"index\"))"
   ]
  },
  {
   "cell_type": "code",
   "execution_count": 145,
   "metadata": {},
   "outputs": [
    {
     "data": {
      "text/plain": [
       "{'artist': 'Taylor Swift',\n",
       " 'album': 'Taylor Swift',\n",
       " 'track_title': 'Tim McGraw',\n",
       " 'track_n': 1,\n",
       " 'lyric': 'He said the way my blue eyes shined',\n",
       " 'line': 1,\n",
       " 'year': 2006}"
      ]
     },
     "execution_count": 145,
     "metadata": {},
     "output_type": "execute_result"
    }
   ],
   "source": [
    "songs['0']"
   ]
  },
  {
   "cell_type": "markdown",
   "metadata": {},
   "source": [
    "## Chunking"
   ]
  },
  {
   "cell_type": "code",
   "execution_count": 159,
   "metadata": {},
   "outputs": [],
   "source": [
    "def make_chunks(full_lyrics):\n",
    "    chunk_size = 150\n",
    "    chunk_overlap_part = 4\n",
    "    \n",
    "    text_splitter = RecursiveCharacterTextSplitter(\n",
    "        chunk_size=chunk_size,\n",
    "        chunk_overlap=chunk_size/chunk_overlap_part,\n",
    "        length_function=len,\n",
    "        is_separator_regex=False,\n",
    "        keep_separator=False,\n",
    "        separators = [\"\\n\", \". \", \" \", \"\"]\n",
    "    )\n",
    "\n",
    "    docs = text_splitter.create_documents([full_lyrics])\n",
    "    return [{\"line\":doc.page_content} for doc in docs]"
   ]
  },
  {
   "cell_type": "code",
   "execution_count": 160,
   "metadata": {},
   "outputs": [],
   "source": [
    "max_ind = len(songs)\n",
    "\n",
    "previous_id = 1\n",
    "artist = \"Taylor Swift\"\n",
    "lyrics = []\n",
    "song = {}\n",
    "\n",
    "song[\"artist\"] = artist\n",
    "song[\"id\"] = previous_id-1\n",
    "song[\"name\"] = songs['0'][\"track_title\"]\n",
    "song[\"album\"] = songs['0'][\"album\"]\n",
    "full_lyrics = \"\"\n",
    "\n",
    "processed_songs = []\n",
    "\n",
    "for i in range(max_ind):\n",
    "    line = songs[str(i)]\n",
    "    \n",
    "    name = unidecode(line[\"track_title\"])\n",
    "    album = unidecode(line[\"album\"])\n",
    "    id = line[\"track_n\"]\n",
    "\n",
    "    if id == previous_id:\n",
    "        line = unidecode(line[\"lyric\"])\n",
    "        lyrics.append({\"line\" : line})\n",
    "        full_lyrics = full_lyrics + line + \" \\n \"\n",
    "    else:\n",
    "        previous_id = id\n",
    "        song[\"lyrics\"] = lyrics\n",
    "        song[\"full_lyrics\"] = {\"line\" : full_lyrics}\n",
    "        chunks = make_chunks(full_lyrics)\n",
    "        song[\"chunks\"] = chunks\n",
    "        processed_songs.append(song)\n",
    "\n",
    "        song = {}\n",
    "        lyrics = []\n",
    "        full_lyrics = \"\"\n",
    "        song[\"artist\"] = artist\n",
    "        song[\"name\"] = name\n",
    "        song[\"album\"] = album\n",
    "        song[\"id\"] = id-1\n"
   ]
  },
  {
   "cell_type": "code",
   "execution_count": 165,
   "metadata": {},
   "outputs": [
    {
     "name": "stdout",
     "output_type": "stream",
     "text": [
      "The lyrics of this song have a length of 1888 characters\n",
      "We have 17 chunks with an average lenght of 130.12 characters\n",
      "We have 55 lines of lyrics with an average lenght of 31.33 characters\n"
     ]
    }
   ],
   "source": [
    "import numpy as np\n",
    "\n",
    "example = processed_songs[0]\n",
    "\n",
    "print(f'The lyrics of this song have a length of {len(example[\"full_lyrics\"][\"line\"])} characters')\n",
    "sizes = []\n",
    "for chunk in example[\"chunks\"]:\n",
    "    sizes.append(len(chunk[\"line\"]))\n",
    "print(f'We have {len(example[\"chunks\"])} chunks with an average lenght of {np.round(np.mean(sizes), 2)} characters')\n",
    "\n",
    "sizes = []\n",
    "for line in example[\"lyrics\"]:\n",
    "    sizes.append(len(line[\"line\"]))\n",
    "\n",
    "print(f'We have {len(example[\"lyrics\"])} lines of lyrics with an average lenght of {np.round(np.mean(sizes),2)} characters')"
   ]
  },
  {
   "cell_type": "code",
   "execution_count": 166,
   "metadata": {},
   "outputs": [],
   "source": [
    "with open('data/ts_song.json', 'w') as f:\n",
    "    dump(processed_songs, f)"
   ]
  },
  {
   "cell_type": "code",
   "execution_count": 147,
   "metadata": {},
   "outputs": [],
   "source": [
    "from pydantic import BaseModel\n",
    "\n",
    "class Song(BaseModel):\n",
    "    name: str\n",
    "    artist: str\n",
    "    lyrics: list\n",
    "    id : int\n",
    "    album : str\n",
    "\n",
    "    model_config = {\n",
    "        \"json_schema_extra\": {\n",
    "            \"examples\": [\n",
    "                {\n",
    "                    \"name\": \"Take me to church\",\n",
    "                    \"artist\": \"Hozier\",\n",
    "                    \"album\" : \"Hozier\",\n",
    "                    \"lyrics\": [\"Her eyes and words are so icy\", \"Oh but she burns\", \"Like rum on the fire\", ...],\n",
    "                    \"id\": 0,\n",
    "                }\n",
    "            ]\n",
    "        }\n",
    "    }\n",
    "    "
   ]
  },
  {
   "cell_type": "code",
   "execution_count": 148,
   "metadata": {},
   "outputs": [],
   "source": [
    "for song in processed_songs:\n",
    "    Song.model_validate(song)"
   ]
  }
 ],
 "metadata": {
  "kernelspec": {
   "display_name": ".venv",
   "language": "python",
   "name": "python3"
  },
  "language_info": {
   "codemirror_mode": {
    "name": "ipython",
    "version": 3
   },
   "file_extension": ".py",
   "mimetype": "text/x-python",
   "name": "python",
   "nbconvert_exporter": "python",
   "pygments_lexer": "ipython3",
   "version": "3.11.4"
  },
  "orig_nbformat": 4
 },
 "nbformat": 4,
 "nbformat_minor": 2
}
