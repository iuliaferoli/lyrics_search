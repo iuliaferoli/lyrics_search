{
 "cells": [
  {
   "cell_type": "code",
   "execution_count": 7,
   "metadata": {},
   "outputs": [],
   "source": [
    "import requests\n",
    "import json\n",
    "import getpass"
   ]
  },
  {
   "cell_type": "markdown",
   "metadata": {},
   "source": [
    "## Connect to the musixmatch API to get lyrics:\n",
    "You can sign up for a free developer account and generate a personal API key\n",
    "\n",
    "https://developer.musixmatch.com/ "
   ]
  },
  {
   "cell_type": "code",
   "execution_count": 8,
   "metadata": {},
   "outputs": [],
   "source": [
    "api_key = getpass.getpass(\"api_key\")"
   ]
  },
  {
   "cell_type": "markdown",
   "metadata": {},
   "source": [
    "Defining some helper functions to collect lyrics"
   ]
  },
  {
   "cell_type": "code",
   "execution_count": 15,
   "metadata": {},
   "outputs": [],
   "source": [
    "def get_songs(artist):\n",
    "    api_url = \"http://api.musixmatch.com/ws/1.1/track.search&apikey=\" + api_key \n",
    "    url = api_url + \"&q_artist=\" + str(artist)\n",
    "    x = requests.get(url)\n",
    "    response = json.loads(x.text)\n",
    "\n",
    "    return response['message'][\"body\"][\"track_list\"]"
   ]
  },
  {
   "cell_type": "code",
   "execution_count": 16,
   "metadata": {},
   "outputs": [],
   "source": [
    "# len(\"\\n...\\n\\n******* This Lyrics is NOT for Commercial use *******\") = 59\n",
    "\n",
    "def get_lyrics(track_id):\n",
    "    api_url = \"http://api.musixmatch.com/ws/1.1/track.lyrics.get?apikey=\" + api_key\n",
    "    url = api_url + \"&track_id=\"  + str(track_id)\n",
    "    x = requests.get(url)\n",
    "    response = json.loads(x.text)\n",
    "    return response['message'][\"body\"][\"lyrics\"][\"lyrics_body\"][:-59]"
   ]
  },
  {
   "cell_type": "code",
   "execution_count": 17,
   "metadata": {},
   "outputs": [],
   "source": [
    "songs = get_songs(\"hozier\")\n",
    "\n",
    "song_list = []\n",
    "for song in songs:\n",
    "    mysong = {}\n",
    "    mysong[\"id\"] = song[\"track\"][\"track_id\"]\n",
    "    mysong[\"name\"] = song[\"track\"][\"track_name\"].split(\"(\")[0].split(\"-\")[0]\n",
    "    mysong[\"artist\"] = song[\"track\"][\"artist_name\"]\n",
    "    if (song[\"track\"][\"has_lyrics\"] == 1):\n",
    "        mysong[\"lyrics\"] = get_lyrics(mysong[\"id\"])\n",
    "    else:\n",
    "        mysong[\"lyrics\"] = None\n",
    "    song_list.append(mysong)"
   ]
  },
  {
   "cell_type": "code",
   "execution_count": 18,
   "metadata": {},
   "outputs": [],
   "source": [
    "with open('hozier_songs.json', 'w') as f:\n",
    "    json.dump(song_list, f)"
   ]
  },
  {
   "cell_type": "markdown",
   "metadata": {},
   "source": [
    "## Pydantic Model example for validating data input"
   ]
  },
  {
   "cell_type": "code",
   "execution_count": 4,
   "metadata": {},
   "outputs": [],
   "source": [
    "import json\n",
    "with open('hozier_songs.json', 'r') as f:\n",
    "  songs = json.load(f)"
   ]
  },
  {
   "cell_type": "code",
   "execution_count": 13,
   "metadata": {},
   "outputs": [
    {
     "data": {
      "text/plain": [
       "{'id': 84741219,\n",
       " 'name': 'Cherry Wine ',\n",
       " 'artist': 'Hozier',\n",
       " 'lyrics': \"Her eyes and words are so icy\\nOh but she burns\\nLike rum on the fire\\nHot and fast and angry as she can be\\nI walk my days on a wire.\\nIt looks ugly, but it's clean,\\nOh momma, don't fuss over me.\\nThe way she tells me I'm hers and she is mine\\nOpen hand or closed fist would be fine\\nThe blood is rare and sweet as cherry wine.\\nCalls of guilty thrown at me\"}"
      ]
     },
     "execution_count": 13,
     "metadata": {},
     "output_type": "execute_result"
    }
   ],
   "source": [
    "song = songs[0]\n",
    "song"
   ]
  },
  {
   "cell_type": "code",
   "execution_count": 8,
   "metadata": {},
   "outputs": [],
   "source": [
    "from pydantic import BaseModel\n",
    "\n",
    "class Song(BaseModel):\n",
    "    name: str\n",
    "    artist: str\n",
    "    lyrics: str\n",
    "    id : int\n",
    "\n",
    "    model_config = {\n",
    "        \"json_schema_extra\": {\n",
    "            \"examples\": [\n",
    "                {\n",
    "                    \"name\": \"Take me to church\",\n",
    "                    \"artist\": \"Hozier\",\n",
    "                    \"lyrics\": \"Her eyes and words are so icy\\nOh but she burns\\nLike rum on the fire\",\n",
    "                    \"id\": 0,\n",
    "                }\n",
    "            ]\n",
    "        }\n",
    "    }\n",
    "    \n",
    "example = Song.model_validate(song)"
   ]
  },
  {
   "cell_type": "code",
   "execution_count": 9,
   "metadata": {},
   "outputs": [
    {
     "data": {
      "text/plain": [
       "Song(name='Cherry Wine ', artist='Hozier', lyrics=\"Her eyes and words are so icy\\nOh but she burns\\nLike rum on the fire\\nHot and fast and angry as she can be\\nI walk my days on a wire.\\nIt looks ugly, but it's clean,\\nOh momma, don't fuss over me.\\nThe way she tells me I'm hers and she is mine\\nOpen hand or closed fist would be fine\\nThe blood is rare and sweet as cherry wine.\\nCalls of guilty thrown at me\", id=84741219)"
      ]
     },
     "execution_count": 9,
     "metadata": {},
     "output_type": "execute_result"
    }
   ],
   "source": [
    "example"
   ]
  },
  {
   "cell_type": "code",
   "execution_count": 10,
   "metadata": {},
   "outputs": [
    {
     "data": {
      "text/plain": [
       "'Hozier'"
      ]
     },
     "execution_count": 10,
     "metadata": {},
     "output_type": "execute_result"
    }
   ],
   "source": [
    "example.artist"
   ]
  }
 ],
 "metadata": {
  "kernelspec": {
   "display_name": ".venv",
   "language": "python",
   "name": "python3"
  },
  "language_info": {
   "codemirror_mode": {
    "name": "ipython",
    "version": 3
   },
   "file_extension": ".py",
   "mimetype": "text/x-python",
   "name": "python",
   "nbconvert_exporter": "python",
   "pygments_lexer": "ipython3",
   "version": "3.11.2"
  }
 },
 "nbformat": 4,
 "nbformat_minor": 2
}
