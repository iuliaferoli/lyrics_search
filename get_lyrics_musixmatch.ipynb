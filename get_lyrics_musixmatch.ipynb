{
 "cells": [
  {
   "cell_type": "code",
   "execution_count": 6,
   "metadata": {},
   "outputs": [],
   "source": [
    "import requests\n",
    "import json\n",
    "import getpass\n"
   ]
  },
  {
   "cell_type": "markdown",
   "metadata": {},
   "source": [
    "## Connect to the musixmatch API to get lyrics:\n",
    "You can sign up for a free developer account and generate a personal API key\n",
    "\n",
    "https://developer.musixmatch.com/"
   ]
  },
  {
   "cell_type": "code",
   "execution_count": 7,
   "metadata": {},
   "outputs": [],
   "source": [
    "api_key = getpass.getpass(\"api_key\")"
   ]
  },
  {
   "cell_type": "markdown",
   "metadata": {},
   "source": [
    "Defining some helper functions to collect lyrics"
   ]
  },
  {
   "cell_type": "code",
   "execution_count": 8,
   "metadata": {},
   "outputs": [],
   "source": [
    "def get_songs(artist):\n",
    "    api_url = \"http://api.musixmatch.com/ws/1.1/track.search&apikey=\" + api_key \n",
    "    url = api_url + \"&q_artist=\" + str(artist)\n",
    "    x = requests.get(url)\n",
    "    response = json.loads(x.text)\n",
    "\n",
    "    return response['message'][\"body\"][\"track_list\"]"
   ]
  },
  {
   "cell_type": "code",
   "execution_count": 9,
   "metadata": {},
   "outputs": [],
   "source": [
    "# len(\"\\n...\\n\\n******* This Lyrics is NOT for Commercial use *******\") = 59\n",
    "\n",
    "def get_lyrics(track_id):\n",
    "    api_url = \"http://api.musixmatch.com/ws/1.1/track.lyrics.get?apikey=\" + api_key\n",
    "    url = api_url + \"&track_id=\"  + str(track_id)\n",
    "    x = requests.get(url)\n",
    "    response = json.loads(x.text)\n",
    "    lyrics = response['message'][\"body\"][\"lyrics\"][\"lyrics_body\"][:-59].split(\"\\n\")\n",
    "    inner_hits = []\n",
    "    for line in lyrics:\n",
    "        if line not in [\"\", '...']:\n",
    "            inner_hits.append({\"line\" : line})\n",
    "    return inner_hits"
   ]
  },
  {
   "cell_type": "code",
   "execution_count": 10,
   "metadata": {},
   "outputs": [],
   "source": [
    "songs = get_songs(\"hozier\")\n",
    "\n",
    "song_list = []\n",
    "for song in songs:\n",
    "    mysong = {}\n",
    "    mysong[\"id\"] = song[\"track\"][\"track_id\"]\n",
    "    mysong[\"name\"] = song[\"track\"][\"track_name\"].split(\"(\")[0].split(\"-\")[0]\n",
    "    mysong[\"artist\"] = song[\"track\"][\"artist_name\"]\n",
    "    if (song[\"track\"][\"has_lyrics\"] == 1):\n",
    "        mysong[\"lyrics\"] = get_lyrics(mysong[\"id\"])\n",
    "    else:\n",
    "        mysong[\"lyrics\"] = None\n",
    "    song_list.append(mysong)"
   ]
  },
  {
   "cell_type": "code",
   "execution_count": 11,
   "metadata": {},
   "outputs": [],
   "source": [
    "with open('data/hozier_songs.json', 'w') as f:\n",
    "    json.dump(song_list, f)"
   ]
  },
  {
   "cell_type": "markdown",
   "metadata": {},
   "source": [
    "## Pydantic Model example for validating data input"
   ]
  },
  {
   "cell_type": "code",
   "execution_count": 12,
   "metadata": {},
   "outputs": [],
   "source": [
    "import json\n",
    "with open('data/hozier_songs.json', 'r') as f:\n",
    "  songs = json.load(f)"
   ]
  },
  {
   "cell_type": "code",
   "execution_count": 13,
   "metadata": {},
   "outputs": [
    {
     "data": {
      "text/plain": [
       "{'id': 84358250,\n",
       " 'name': 'Someone New ',\n",
       " 'artist': 'Hozier',\n",
       " 'lyrics': [{'line': 'Go take this the wrong way'},\n",
       "  {'line': 'You knew who I was with every step that I ran to you'},\n",
       "  {'line': 'Only blue or black days'},\n",
       "  {'line': 'Electing strange perfections in any stranger I choose'},\n",
       "  {'line': 'Would things be easier if there was a right way'},\n",
       "  {'line': 'Honey there is no right way'},\n",
       "  {'line': \"And so I fall in love just a little ol' little bit\"},\n",
       "  {'line': 'Every day with someone new'},\n",
       "  {'line': \"I fall in love just a little ol' little bit\"},\n",
       "  {'line': 'Every day with someone new'},\n",
       "  {'line': \"I fall in love just a little ol' little bit\"},\n",
       "  {'line': 'Every day with someone new'},\n",
       "  {'line': \"I fall in love just a little ol' little bit\"},\n",
       "  {'line': 'Every day with someone new'},\n",
       "  {'line': \"There's an art to life's distractions\"},\n",
       "  {'line': 'To somehow escape the burning weight'},\n",
       "  {'line': 'The art of scraping through'},\n",
       "  {'line': 'Some like to imagine'},\n",
       "  {'line': 'The dark caress of someone else I guess any thrill will do'},\n",
       "  {'line': '******* Th'}]}"
      ]
     },
     "execution_count": 13,
     "metadata": {},
     "output_type": "execute_result"
    }
   ],
   "source": [
    "song = songs[0]\n",
    "song"
   ]
  },
  {
   "cell_type": "code",
   "execution_count": 15,
   "metadata": {},
   "outputs": [],
   "source": [
    "from pydantic import BaseModel\n",
    "\n",
    "class Song(BaseModel):\n",
    "    name: str\n",
    "    artist: str\n",
    "    lyrics: list | None\n",
    "    id : int\n",
    "\n",
    "    model_config = {\n",
    "        \"json_schema_extra\": {\n",
    "            \"examples\": [\n",
    "                {\n",
    "                    \"name\": \"Take me to church\",\n",
    "                    \"artist\": \"Hozier\",\n",
    "                    \"lyrics\": \"Her eyes and words are so icy\\nOh but she burns\\nLike rum on the fire\",\n",
    "                    \"id\": 0,\n",
    "                }\n",
    "            ]\n",
    "        }\n",
    "    }\n",
    "    \n",
    "example = Song.model_validate(song)"
   ]
  },
  {
   "cell_type": "code",
   "execution_count": 16,
   "metadata": {},
   "outputs": [
    {
     "data": {
      "text/plain": [
       "Song(name='Someone New ', artist='Hozier', lyrics=[{'line': 'Go take this the wrong way'}, {'line': 'You knew who I was with every step that I ran to you'}, {'line': 'Only blue or black days'}, {'line': 'Electing strange perfections in any stranger I choose'}, {'line': 'Would things be easier if there was a right way'}, {'line': 'Honey there is no right way'}, {'line': \"And so I fall in love just a little ol' little bit\"}, {'line': 'Every day with someone new'}, {'line': \"I fall in love just a little ol' little bit\"}, {'line': 'Every day with someone new'}, {'line': \"I fall in love just a little ol' little bit\"}, {'line': 'Every day with someone new'}, {'line': \"I fall in love just a little ol' little bit\"}, {'line': 'Every day with someone new'}, {'line': \"There's an art to life's distractions\"}, {'line': 'To somehow escape the burning weight'}, {'line': 'The art of scraping through'}, {'line': 'Some like to imagine'}, {'line': 'The dark caress of someone else I guess any thrill will do'}, {'line': '******* Th'}], id=84358250)"
      ]
     },
     "execution_count": 16,
     "metadata": {},
     "output_type": "execute_result"
    }
   ],
   "source": [
    "example"
   ]
  },
  {
   "cell_type": "code",
   "execution_count": 17,
   "metadata": {},
   "outputs": [
    {
     "data": {
      "text/plain": [
       "[{'line': 'Go take this the wrong way'},\n",
       " {'line': 'You knew who I was with every step that I ran to you'},\n",
       " {'line': 'Only blue or black days'},\n",
       " {'line': 'Electing strange perfections in any stranger I choose'},\n",
       " {'line': 'Would things be easier if there was a right way'},\n",
       " {'line': 'Honey there is no right way'},\n",
       " {'line': \"And so I fall in love just a little ol' little bit\"},\n",
       " {'line': 'Every day with someone new'},\n",
       " {'line': \"I fall in love just a little ol' little bit\"},\n",
       " {'line': 'Every day with someone new'},\n",
       " {'line': \"I fall in love just a little ol' little bit\"},\n",
       " {'line': 'Every day with someone new'},\n",
       " {'line': \"I fall in love just a little ol' little bit\"},\n",
       " {'line': 'Every day with someone new'},\n",
       " {'line': \"There's an art to life's distractions\"},\n",
       " {'line': 'To somehow escape the burning weight'},\n",
       " {'line': 'The art of scraping through'},\n",
       " {'line': 'Some like to imagine'},\n",
       " {'line': 'The dark caress of someone else I guess any thrill will do'},\n",
       " {'line': '******* Th'}]"
      ]
     },
     "execution_count": 17,
     "metadata": {},
     "output_type": "execute_result"
    }
   ],
   "source": [
    "example.lyrics"
   ]
  }
 ],
 "metadata": {
  "kernelspec": {
   "display_name": ".venv",
   "language": "python",
   "name": "python3"
  },
  "language_info": {
   "codemirror_mode": {
    "name": "ipython",
    "version": 3
   },
   "file_extension": ".py",
   "mimetype": "text/x-python",
   "name": "python",
   "nbconvert_exporter": "python",
   "pygments_lexer": "ipython3",
   "version": "3.11.4"
  }
 },
 "nbformat": 4,
 "nbformat_minor": 2
}
