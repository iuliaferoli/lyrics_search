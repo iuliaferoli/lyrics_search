{
 "cells": [
  {
   "cell_type": "code",
   "execution_count": 15,
   "metadata": {},
   "outputs": [],
   "source": [
    "import requests\n",
    "import json\n",
    "import getpass\n"
   ]
  },
  {
   "cell_type": "markdown",
   "metadata": {},
   "source": [
    "## Connect to the musixmatch API to get lyrics:\n",
    "You can sign up for a free developer account and generate a personal API key\n",
    "\n",
    "https://developer.musixmatch.com/"
   ]
  },
  {
   "cell_type": "code",
   "execution_count": 12,
   "metadata": {},
   "outputs": [],
   "source": [
    "api_key = getpass.getpass(\"api_key\")"
   ]
  },
  {
   "cell_type": "code",
   "execution_count": 24,
   "metadata": {},
   "outputs": [],
   "source": [
    "def get_songs(artist):\n",
    "    api_url = \"http://api.musixmatch.com/ws/1.1/track.search&apikey=\" + api_key \n",
    "    url = api_url + \"&q_artist=\" + str(artist)\n",
    "    x = requests.get(url)\n",
    "    response = json.loads(x.text)\n",
    "\n",
    "    return response['message'][\"body\"][\"track_list\"]"
   ]
  },
  {
   "cell_type": "code",
   "execution_count": 33,
   "metadata": {},
   "outputs": [],
   "source": [
    "# len(\"\\n...\\n\\n******* This Lyrics is NOT for Commercial use *******\") = 59\n",
    "\n",
    "def get_lyrics(track_id):\n",
    "    api_url = \"http://api.musixmatch.com/ws/1.1/track.lyrics.get?apikey=\" + api_key\n",
    "    url = api_url + \"&track_id=\"  + str(track_id)\n",
    "    x = requests.get(url)\n",
    "    response = json.loads(x.text)\n",
    "    lyrics = response['message'][\"body\"][\"lyrics\"][\"lyrics_body\"][:-59].split(\"\\n\")\n",
    "    inner_hits = []\n",
    "    for line in lyrics:\n",
    "        if line not in [\"\", '...']:\n",
    "            inner_hits.append({\"line\" : line})\n",
    "    return inner_hits"
   ]
  },
  {
   "cell_type": "code",
   "execution_count": 34,
   "metadata": {},
   "outputs": [],
   "source": [
    "songs = get_songs(\"hozier\")\n",
    "\n",
    "song_list = []\n",
    "for song in songs:\n",
    "    mysong = {}\n",
    "    mysong[\"id\"] = song[\"track\"][\"track_id\"]\n",
    "    mysong[\"name\"] = song[\"track\"][\"track_name\"].split(\"(\")[0].split(\"-\")[0]\n",
    "    mysong[\"artist\"] = song[\"track\"][\"artist_name\"]\n",
    "    if (song[\"track\"][\"has_lyrics\"] == 1):\n",
    "        mysong[\"lyrics\"] = get_lyrics(mysong[\"id\"])\n",
    "    else:\n",
    "        mysong[\"lyrics\"] = None\n",
    "    song_list.append(mysong)"
   ]
  },
  {
   "cell_type": "code",
   "execution_count": 36,
   "metadata": {},
   "outputs": [],
   "source": [
    "with open('data/hozier_songs.json', 'w') as f:\n",
    "    json.dump(song_list, f)"
   ]
  },
  {
   "cell_type": "markdown",
   "metadata": {},
   "source": [
    "## Pydantic Model example for validating data input"
   ]
  },
  {
   "cell_type": "code",
   "execution_count": 37,
   "metadata": {},
   "outputs": [],
   "source": [
    "import json\n",
    "with open('data/hozier_songs.json', 'r') as f:\n",
    "  songs = json.load(f)"
   ]
  },
  {
   "cell_type": "code",
   "execution_count": 38,
   "metadata": {},
   "outputs": [],
   "source": [
    "song = songs[0]"
   ]
  },
  {
   "cell_type": "code",
   "execution_count": 40,
   "metadata": {},
   "outputs": [],
   "source": [
    "from pydantic import BaseModel\n",
    "\n",
    "class Song(BaseModel):\n",
    "    name: str\n",
    "    artist: str\n",
    "    lyrics: list | None\n",
    "    id : int\n",
    "\n",
    "    model_config = {\n",
    "        \"json_schema_extra\": {\n",
    "            \"examples\": [\n",
    "                {\n",
    "                    \"name\": \"Take me to church\",\n",
    "                    \"artist\": \"Hozier\",\n",
    "                    \"lyrics\": [\"Her eyes and words are so icy\", \"Oh but she burns\", \"Like rum on the fire\"],\n",
    "                    \"id\": 0,\n",
    "                }\n",
    "            ]\n",
    "        }\n",
    "    }\n",
    "    \n",
    "example = Song.model_validate(song)"
   ]
  },
  {
   "cell_type": "code",
   "execution_count": 41,
   "metadata": {},
   "outputs": [
    {
     "data": {
      "text/plain": [
       "Song(name='Cherry Wine ', artist='Hozier', lyrics=[{'line': 'Her eyes and words are so icy'}, {'line': 'Oh but she burns'}, {'line': 'Like rum on the fire'}, {'line': 'Hot and fast and angry as she can be'}, {'line': 'I walk my days on a wire.'}, {'line': \"It looks ugly, but it's clean,\"}, {'line': \"Oh momma, don't fuss over me.\"}, {'line': \"The way she tells me I'm hers and she is mine\"}, {'line': 'Open hand or closed fist would be fine'}, {'line': 'The blood is rare and sweet as cherry wine.'}, {'line': 'Calls of guilty thrown at me'}, {'line': '******* Th'}], id=84741219)"
      ]
     },
     "execution_count": 41,
     "metadata": {},
     "output_type": "execute_result"
    }
   ],
   "source": [
    "example"
   ]
  },
  {
   "cell_type": "code",
   "execution_count": 42,
   "metadata": {},
   "outputs": [
    {
     "data": {
      "text/plain": [
       "[{'line': 'Her eyes and words are so icy'},\n",
       " {'line': 'Oh but she burns'},\n",
       " {'line': 'Like rum on the fire'},\n",
       " {'line': 'Hot and fast and angry as she can be'},\n",
       " {'line': 'I walk my days on a wire.'},\n",
       " {'line': \"It looks ugly, but it's clean,\"},\n",
       " {'line': \"Oh momma, don't fuss over me.\"},\n",
       " {'line': \"The way she tells me I'm hers and she is mine\"},\n",
       " {'line': 'Open hand or closed fist would be fine'},\n",
       " {'line': 'The blood is rare and sweet as cherry wine.'},\n",
       " {'line': 'Calls of guilty thrown at me'},\n",
       " {'line': '******* Th'}]"
      ]
     },
     "execution_count": 42,
     "metadata": {},
     "output_type": "execute_result"
    }
   ],
   "source": [
    "example.lyrics"
   ]
  }
 ],
 "metadata": {
  "kernelspec": {
   "display_name": ".venv",
   "language": "python",
   "name": "python3"
  },
  "language_info": {
   "codemirror_mode": {
    "name": "ipython",
    "version": 3
   },
   "file_extension": ".py",
   "mimetype": "text/x-python",
   "name": "python",
   "nbconvert_exporter": "python",
   "pygments_lexer": "ipython3",
   "version": "3.11.4"
  }
 },
 "nbformat": 4,
 "nbformat_minor": 2
}
