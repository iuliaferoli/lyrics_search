{
 "cells": [
  {
   "cell_type": "code",
   "execution_count": 7,
   "metadata": {},
   "outputs": [],
   "source": [
    "import requests\n",
    "import json\n",
    "import getpass"
   ]
  },
  {
   "cell_type": "code",
   "execution_count": 8,
   "metadata": {},
   "outputs": [],
   "source": [
    "api_key = getpass.getpass(\"api_key\")"
   ]
  },
  {
   "cell_type": "code",
   "execution_count": 15,
   "metadata": {},
   "outputs": [],
   "source": [
    "def get_songs(artist):\n",
    "    api_url = \"http://api.musixmatch.com/ws/1.1/track.search&apikey=\" + api_key \n",
    "    url = api_url + \"&q_artist=\" + str(artist)\n",
    "    x = requests.get(url)\n",
    "    response = json.loads(x.text)\n",
    "\n",
    "    return response['message'][\"body\"][\"track_list\"]"
   ]
  },
  {
   "cell_type": "code",
   "execution_count": 16,
   "metadata": {},
   "outputs": [],
   "source": [
    "# len(\"\\n...\\n\\n******* This Lyrics is NOT for Commercial use *******\") = 59\n",
    "\n",
    "def get_lyrics(track_id):\n",
    "    api_url = \"http://api.musixmatch.com/ws/1.1/track.lyrics.get?apikey=\" + api_key\n",
    "    url = api_url + \"&track_id=\"  + str(track_id)\n",
    "    x = requests.get(url)\n",
    "    response = json.loads(x.text)\n",
    "    return response['message'][\"body\"][\"lyrics\"][\"lyrics_body\"][:-59]"
   ]
  },
  {
   "cell_type": "code",
   "execution_count": 17,
   "metadata": {},
   "outputs": [],
   "source": [
    "songs = get_songs(\"hozier\")\n",
    "\n",
    "song_list = []\n",
    "for song in songs:\n",
    "    mysong = {}\n",
    "    mysong[\"id\"] = song[\"track\"][\"track_id\"]\n",
    "    mysong[\"name\"] = song[\"track\"][\"track_name\"].split(\"(\")[0].split(\"-\")[0]\n",
    "    mysong[\"artist\"] = song[\"track\"][\"artist_name\"]\n",
    "    if (song[\"track\"][\"has_lyrics\"] == 1):\n",
    "        mysong[\"lyrics\"] = get_lyrics(mysong[\"id\"])\n",
    "    else:\n",
    "        mysong[\"lyrics\"] = None\n",
    "    song_list.append(mysong)"
   ]
  },
  {
   "cell_type": "code",
   "execution_count": 18,
   "metadata": {},
   "outputs": [],
   "source": [
    "with open('hozier_songs.json', 'w') as f:\n",
    "    json.dump(song_list, f)"
   ]
  }
 ],
 "metadata": {
  "kernelspec": {
   "display_name": ".venv",
   "language": "python",
   "name": "python3"
  },
  "language_info": {
   "codemirror_mode": {
    "name": "ipython",
    "version": 3
   },
   "file_extension": ".py",
   "mimetype": "text/x-python",
   "name": "python",
   "nbconvert_exporter": "python",
   "pygments_lexer": "ipython3",
   "version": "3.11.2"
  }
 },
 "nbformat": 4,
 "nbformat_minor": 2
}
