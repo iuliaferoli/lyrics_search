{
 "cells": [
  {
   "cell_type": "markdown",
   "metadata": {},
   "source": [
    "## Spotify Wrapped - Iulia's Version"
   ]
  },
  {
   "cell_type": "markdown",
   "metadata": {},
   "source": [
    "In this notebook we will generate a custom version of the top artists, songs, and trends over the year based on our downloadable spotify personal history.\n",
    "\n",
    "You can request your data from Spotify [via this link.](https://www.spotify.com/uk/account/privacy/) Make sure to check your extended data. This process can take up to a month so you will have to wait for a few weeka before your json files are generated and sent to you.\n",
    "\n",
    "![](/img/spotify.png)"
   ]
  },
  {
   "cell_type": "markdown",
   "metadata": {},
   "source": [
    "### Exploring Spotify Streaming Data"
   ]
  },
  {
   "cell_type": "markdown",
   "metadata": {},
   "source": [
    "Once data has been exported we can take a look at the stats. Spotify provides some helpful metadata to help understand the format:\n",
    "\n",
    "![](img/spotify%20schema.png)"
   ]
  },
  {
   "cell_type": "markdown",
   "metadata": {},
   "source": [
    "We can create a data model for these data points to better show our projected mapping (which we can use later if we plan to build an interface for this app)."
   ]
  },
  {
   "cell_type": "code",
   "execution_count": 3,
   "metadata": {},
   "outputs": [],
   "source": [
    "from pydantic import BaseModel\n",
    "from datetime import datetime\n",
    "from pydantic.networks import IPvAnyAddress\n",
    "\n",
    "class Song(BaseModel):\n",
    "    ts:  datetime #YYY-MM-DD 13:30:30,\n",
    "    username: str\n",
    "    platform: str\n",
    "    ms_played: int\n",
    "    conn_country: str\n",
    "    ip_addr_decrypted: IPvAnyAddress\n",
    "    user_agent_decrypted: str\n",
    "    master_metadatatrackname: str\n",
    "    master_metadata_album_artist_name: str\n",
    "    master_metadata_album_album_name: str\n",
    "    spotify_track_uri: str #“spotify:track:<base-62 string>”\n",
    "    episode_name: str\n",
    "    episode_show_name: str\n",
    "    spotify_episode_uri: str\n",
    "    reason_start: str\n",
    "    reason_end: str\n",
    "    shuffle: None | bool\n",
    "    skipped: None | bool\n",
    "    offline: None | bool\n",
    "    offline_timestamp: datetime\n",
    "    inccognito_mode: None | bool\n",
    "\n",
    "    model_config = {\n",
    "        \"json_schema_extra\": {\n",
    "            \"examples\": [\n",
    "                {\n",
    "                    \"ts\": \"2019-12-16T08:07:25Z\",\n",
    "                    \"platform\": \"iOS 13.3 (iPhone9,3)\",\n",
    "                    \"ms_played\": 9779,\n",
    "                    \"conn_country\": \"NL\",\n",
    "                    \"ip_addr\": \"00.000.000.00\", #masked for privacy\n",
    "                    \"master_metadata_track_name\": \"Someone New\",\n",
    "                    \"master_metadata_album_artist_name\": \"Hozier\",\n",
    "                    \"master_metadata_album_album_name\": \"Hozier\",\n",
    "                    \"spotify_track_uri\": \"spotify:track:22sS7JkzeVeq4vOPCB6Fbj\",\n",
    "                    \"episode_name\": None,\n",
    "                    \"episode_show_name\": None,\n",
    "                    \"spotify_episode_uri\": None,\n",
    "                    \"reason_start\": \"appload\",\n",
    "                    \"reason_end\": \"endplay\",\n",
    "                    \"shuffle\": True,\n",
    "                    \"skipped\": False,\n",
    "                    \"offline\": False,\n",
    "                    \"offline_timestamp\": None,\n",
    "                    \"incognito_mode\": False\n",
    "                },\n",
    "            ]\n",
    "        }\n",
    "    }"
   ]
  },
  {
   "cell_type": "markdown",
   "metadata": {},
   "source": [
    "## Connecting to your Elastic cluster"
   ]
  },
  {
   "cell_type": "code",
   "execution_count": 6,
   "metadata": {},
   "outputs": [],
   "source": [
    "from elasticsearch import Elasticsearch, helpers\n",
    "from getpass import getpass\n",
    "\n",
    "#Connect to the elastic cloud server\n",
    "ELASTIC_CLOUD_ID = getpass(\"Elastic Cloud ID: \")\n",
    "ELASTIC_API_KEY = getpass(\"Elastic API Key: \")\n",
    "\n",
    "# Create an Elasticsearch client using the provided credentials\n",
    "client = Elasticsearch(\n",
    "    cloud_id=ELASTIC_CLOUD_ID,  # cloud id can be found under deployment management\n",
    "    api_key=ELASTIC_API_KEY, # your username and password for connecting to elastic, found under Deplouments - Security\n",
    ")"
   ]
  },
  {
   "cell_type": "markdown",
   "metadata": {},
   "source": [
    "## Adding the documents into an elasticsearch index"
   ]
  },
  {
   "cell_type": "markdown",
   "metadata": {},
   "source": [
    "Once your data is available you can add your documents in a local folder. In my example I put my json files for the 5 years of data history I got into the `data` folder.\n",
    "\n",
    "![](/img/data.png)"
   ]
  },
  {
   "cell_type": "code",
   "execution_count": 9,
   "metadata": {},
   "outputs": [],
   "source": [
    "import json\n",
    "\n",
    "index_name = 'spotify-history'\n",
    "\n",
    "# Create the Elasticsearch index with the specified name (delete if already existing)\n",
    "if client.indices.exists(index=index_name):\n",
    "    client.indices.delete(index=index_name)\n",
    "client.indices.create(index=index_name)\n"
   ]
  },
  {
   "cell_type": "markdown",
   "metadata": {},
   "source": [
    "We can now open these files with a json reader and directly generate documents for our elasticsearch index from the files."
   ]
  },
  {
   "cell_type": "code",
   "execution_count": 13,
   "metadata": {},
   "outputs": [],
   "source": [
    "def generate_docs(DATASET_PATH):\n",
    "    with open(DATASET_PATH, \"r\") as f:\n",
    "        json_data = json.load(f)\n",
    "        documents = []\n",
    "        for doc in json_data:\n",
    "            documents.append(doc)\n",
    "        load = helpers.bulk(client, documents, index=index_name)"
   ]
  },
  {
   "cell_type": "code",
   "execution_count": 29,
   "metadata": {},
   "outputs": [],
   "source": [
    "# import required module\n",
    "import os\n",
    "# assign directory\n",
    "directory = 'data'\n",
    "file_list = []\n",
    "for filename in os.listdir(directory):\n",
    "    f = os.path.join(directory, filename)\n",
    "    if os.path.isfile(f) and f.endswith(\".json\"):\n",
    "        file_list.append(f)"
   ]
  },
  {
   "cell_type": "code",
   "execution_count": 11,
   "metadata": {},
   "outputs": [],
   "source": [
    "for DATASET_PATH in file_list:\n",
    "    generate_docs(DATASET_PATH)"
   ]
  },
  {
   "cell_type": "markdown",
   "metadata": {},
   "source": [
    "Once the data is added into elastic, a mapping is automatically generated. The data from Spotify is already high quality so this mapping is accurate enough by default that we don't need to pre-define it manually. The main important detail to pay attention to is that fields like artist name also generate as a `keyword` which will enable us to run more complex aggregations in the following steps. \n",
    "\n",
    "Here's what it will look like on the Elastic side:"
   ]
  },
  {
   "cell_type": "code",
   "execution_count": null,
   "metadata": {},
   "outputs": [],
   "source": [
    "mappings = {\n",
    "      \"properties\": {\n",
    "        \"conn_country\": {\n",
    "          \"type\": \"text\",\n",
    "          \"fields\": {\n",
    "            \"keyword\": {\n",
    "              \"type\": \"keyword\",\n",
    "              \"ignore_above\": 256\n",
    "            }\n",
    "          }\n",
    "        },\n",
    "        \"episode_name\": {\n",
    "          \"type\": \"text\",\n",
    "          \"fields\": {\n",
    "            \"keyword\": {\n",
    "              \"type\": \"keyword\",\n",
    "              \"ignore_above\": 256\n",
    "            }\n",
    "          }\n",
    "        },\n",
    "        \"episode_show_name\": {\n",
    "          \"type\": \"text\",\n",
    "          \"fields\": {\n",
    "            \"keyword\": {\n",
    "              \"type\": \"keyword\",\n",
    "              \"ignore_above\": 256\n",
    "            }\n",
    "          }\n",
    "        },\n",
    "        \"incognito_mode\": {\n",
    "          \"type\": \"boolean\"\n",
    "        },\n",
    "        \"ip_addr\": {\n",
    "          \"type\": \"text\",\n",
    "          \"fields\": {\n",
    "            \"keyword\": {\n",
    "              \"type\": \"keyword\",\n",
    "              \"ignore_above\": 256\n",
    "            }\n",
    "          }\n",
    "        },\n",
    "        \"master_metadata_album_album_name\": {\n",
    "          \"type\": \"text\",\n",
    "          \"fields\": {\n",
    "            \"keyword\": {\n",
    "              \"type\": \"keyword\",\n",
    "              \"ignore_above\": 256\n",
    "            }\n",
    "          }\n",
    "        },\n",
    "        \"master_metadata_album_artist_name\": {\n",
    "          \"type\": \"text\",\n",
    "          \"fields\": {\n",
    "            \"keyword\": {\n",
    "              \"type\": \"keyword\",\n",
    "              \"ignore_above\": 256\n",
    "            }\n",
    "          }\n",
    "        },\n",
    "        \"master_metadata_track_name\": {\n",
    "          \"type\": \"text\",\n",
    "          \"fields\": {\n",
    "            \"keyword\": {\n",
    "              \"type\": \"keyword\",\n",
    "              \"ignore_above\": 256\n",
    "            }\n",
    "          }\n",
    "        },\n",
    "        \"ms_played\": {\n",
    "          \"type\": \"long\"\n",
    "        },\n",
    "        \"offline\": {\n",
    "          \"type\": \"boolean\"\n",
    "        },\n",
    "        \"offline_timestamp\": {\n",
    "          \"type\": \"long\"\n",
    "        },\n",
    "        \"platform\": {\n",
    "          \"type\": \"text\",\n",
    "          \"fields\": {\n",
    "            \"keyword\": {\n",
    "              \"type\": \"keyword\",\n",
    "              \"ignore_above\": 256\n",
    "            }\n",
    "          }\n",
    "        },\n",
    "        \"reason_end\": {\n",
    "          \"type\": \"text\",\n",
    "          \"fields\": {\n",
    "            \"keyword\": {\n",
    "              \"type\": \"keyword\",\n",
    "              \"ignore_above\": 256\n",
    "            }\n",
    "          }\n",
    "        },\n",
    "        \"reason_start\": {\n",
    "          \"type\": \"text\",\n",
    "          \"fields\": {\n",
    "            \"keyword\": {\n",
    "              \"type\": \"keyword\",\n",
    "              \"ignore_above\": 256\n",
    "            }\n",
    "          }\n",
    "        },\n",
    "        \"shuffle\": {\n",
    "          \"type\": \"boolean\"\n",
    "        },\n",
    "        \"skipped\": {\n",
    "          \"type\": \"boolean\"\n",
    "        },\n",
    "        \"spotify_episode_uri\": {\n",
    "          \"type\": \"text\",\n",
    "          \"fields\": {\n",
    "            \"keyword\": {\n",
    "              \"type\": \"keyword\",\n",
    "              \"ignore_above\": 256\n",
    "            }\n",
    "          }\n",
    "        },\n",
    "        \"spotify_track_uri\": {\n",
    "          \"type\": \"text\",\n",
    "          \"fields\": {\n",
    "            \"keyword\": {\n",
    "              \"type\": \"keyword\",\n",
    "              \"ignore_above\": 256\n",
    "            }\n",
    "          }\n",
    "        },\n",
    "        \"ts\": {\n",
    "          \"type\": \"date\"\n",
    "        }\n",
    "      }\n",
    "    }"
   ]
  },
  {
   "cell_type": "markdown",
   "metadata": {},
   "source": [
    "## We can now run queries on our data"
   ]
  },
  {
   "cell_type": "code",
   "execution_count": 39,
   "metadata": {},
   "outputs": [
    {
     "name": "stdout",
     "output_type": "stream",
     "text": [
      "We get back 5653 results, here are the first ones:\n",
      "My Love Will Never Die\n",
      "Angel Of Small Death & The Codeine Scene\n",
      "Someone New - Live\n"
     ]
    }
   ],
   "source": [
    "index_name = 'spotify-history'\n",
    "query={\n",
    "    \"match\": {\n",
    "        \"master_metadata_album_artist_name\": \"Hozier\"\n",
    "    }\n",
    "}\n",
    "\n",
    "#Run a simple query, for example looking for problems with the engine\n",
    "response = client.search(index=index_name, query=query, size=3)\n",
    "\n",
    "print(\"We get back {total} results, here are the first ones:\".format(total=response[\"hits\"]['total']['value']))\n",
    "for hit in response[\"hits\"][\"hits\"]:\n",
    "    print(hit['_source'][\"master_metadata_track_name\"])"
   ]
  },
  {
   "cell_type": "markdown",
   "metadata": {},
   "source": [
    "### My top artists of all time"
   ]
  },
  {
   "cell_type": "code",
   "execution_count": 46,
   "metadata": {},
   "outputs": [
    {
     "name": "stdout",
     "output_type": "stream",
     "text": [
      "{'key': 'Hozier', 'doc_count': 5653}\n",
      "{'key': 'Ariana Grande', 'doc_count': 1543}\n",
      "{'key': 'Billie Eilish', 'doc_count': 1226}\n",
      "{'key': 'Halsey', 'doc_count': 1076}\n",
      "{'key': 'Taylor Swift', 'doc_count': 650}\n",
      "{'key': 'Cardi B', 'doc_count': 547}\n",
      "{'key': 'Beyoncé', 'doc_count': 525}\n",
      "{'key': 'Avril Lavigne', 'doc_count': 469}\n",
      "{'key': 'BLACKPINK', 'doc_count': 413}\n",
      "{'key': 'Paramore', 'doc_count': 397}\n"
     ]
    }
   ],
   "source": [
    "aggs = {\n",
    "    \"mydata_agg\" : {\n",
    "        \"terms\": {\"field\" : \"master_metadata_album_artist_name.keyword\"}\n",
    "    }\n",
    "}\n",
    "\n",
    "response = client.search(index=index_name, aggregations=aggs)\n",
    "for hit in response['aggregations'][\"mydata_agg\"][\"buckets\"]:\n",
    "    print(hit)\n"
   ]
  },
  {
   "cell_type": "markdown",
   "metadata": {},
   "source": [
    "### Artists of 2024 by # of times playes"
   ]
  },
  {
   "cell_type": "code",
   "execution_count": 56,
   "metadata": {},
   "outputs": [
    {
     "name": "stdout",
     "output_type": "stream",
     "text": [
      "Linkin Park played 271 times.\n",
      "Hozier played 268 times.\n",
      "Dua Lipa played 112 times.\n",
      "Taylor Swift played 106 times.\n",
      "Måneskin played 61 times.\n",
      "Avril Lavigne played 55 times.\n",
      "Evanescence played 40 times.\n",
      "Paramore played 35 times.\n",
      "The Pretty Reckless played 34 times.\n",
      "Green Day played 33 times.\n"
     ]
    }
   ],
   "source": [
    "body = {\n",
    "  \"query\" : { \n",
    "    \"range\" : {\n",
    "      \"ts\": {\n",
    "        \"gte\": \"2024\",\n",
    "        \"lte\": \"2025\"\n",
    "      }\n",
    "    }\n",
    "  },\n",
    "  \"aggs\" : {\n",
    "    \"top_artists\": {\n",
    "      \"terms\": {\n",
    "        \"field\" : \"master_metadata_album_artist_name.keyword\"\n",
    "        }\n",
    "      }\n",
    "    }\n",
    "  }\n",
    "\n",
    "response = client.search(index=index_name, body=body)\n",
    "for hit in response['aggregations'][\"top_artists\"][\"buckets\"]:\n",
    "    print(\"{artist} played {times} times.\".format(artist=hit[\"key\"], times=hit[\"doc_count\"]))\n"
   ]
  },
  {
   "cell_type": "markdown",
   "metadata": {},
   "source": [
    "### Top artists by amount of time played"
   ]
  },
  {
   "cell_type": "code",
   "execution_count": 61,
   "metadata": {},
   "outputs": [
    {
     "name": "stdout",
     "output_type": "stream",
     "text": [
      "Hozier played 268 times; for a total of 13.69 hours\n",
      "Linkin Park played 271 times; for a total of 12.21 hours\n",
      "Dua Lipa played 112 times; for a total of 4.43 hours\n",
      "Taylor Swift played 106 times; for a total of 4.39 hours\n",
      "Måneskin played 61 times; for a total of 2.48 hours\n",
      "Avril Lavigne played 55 times; for a total of 2.05 hours\n",
      "Evanescence played 40 times; for a total of 1.96 hours\n",
      "Adele played 27 times; for a total of 1.6 hours\n",
      "Billie Eilish played 32 times; for a total of 1.57 hours\n",
      "Green Day played 33 times; for a total of 1.5 hours\n"
     ]
    }
   ],
   "source": [
    "body = {\n",
    "  \"size\" : 0,\n",
    "  \"query\" : { \n",
    "    \"range\" : {\n",
    "      \"ts\": {\n",
    "        \"gte\": \"2024\",\n",
    "        \"lte\": \"2025\"\n",
    "      }\n",
    "    }\n",
    "  },\n",
    "  \"aggs\" : {\n",
    "    \"top_artists\": {\n",
    "      \"terms\": {\n",
    "        \"field\" : \"master_metadata_album_artist_name.keyword\",\n",
    "        \"order\": {\n",
    "          \"minutes_played\": \"desc\"\n",
    "        }\n",
    "        },\n",
    "      \"aggs\" : {\n",
    "        \"minutes_played\" :{\n",
    "          \"sum\" : {\n",
    "            \"field\": \"ms_played\"\n",
    "          }\n",
    "        }\n",
    "      }\n",
    "    }\n",
    "  }\n",
    "}\n",
    "\n",
    "response = client.search(index=index_name, body=body)\n",
    "for hit in response['aggregations'][\"top_artists\"][\"buckets\"]:\n",
    "    print(\"{artist} played {times} times; for a total of {hours} hours\".format(artist=hit[\"key\"], times=hit[\"doc_count\"], hours=round(hit[\"minutes_played\"][\"value\"]/3600000, 2) ))"
   ]
  }
 ],
 "metadata": {
  "kernelspec": {
   "display_name": ".venv",
   "language": "python",
   "name": "python3"
  },
  "language_info": {
   "codemirror_mode": {
    "name": "ipython",
    "version": 3
   },
   "file_extension": ".py",
   "mimetype": "text/x-python",
   "name": "python",
   "nbconvert_exporter": "python",
   "pygments_lexer": "ipython3",
   "version": "3.11.4"
  },
  "orig_nbformat": 4
 },
 "nbformat": 4,
 "nbformat_minor": 2
}
